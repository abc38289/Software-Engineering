{
 "cells": [
  {
   "cell_type": "markdown",
   "id": "1ce55f16",
   "metadata": {},
   "source": [
    "# Part 1:\n",
    "Let's practice adding logging messages to some existing code. For this exercise, we'll revisit the wine quality code that you refactored in the previous lesson. Below are listed several potential log messages.\n",
    "\n",
    "Log messages"
   ]
  },
  {
   "cell_type": "markdown",
   "id": "cccb8c02",
   "metadata": {},
   "source": [
    "logging.LEVEL('found val >= median for val:'+val)\n",
    "\n",
    "logging.LEVEL('computed median:'+median)\n",
    "\n",
    "logging.LEVEL('updated column headers by replacing ' ' with '_')\n",
    "\n",
    "logging.LEVEL('done bucketing values')\n",
    "\n",
    "logging.LEVEL('able to read file:'+winequality-red.csv) "
   ]
  },
  {
   "cell_type": "markdown",
   "id": "8377f8bd",
   "metadata": {},
   "source": [
    "Think about where these might be placed in the code below.\n",
    "\n",
    "For each log message provided above, determine the most appropriate level by replacing 'LEVEL' with 'debug' or 'info' (we're excluding 'error' for this exercise) and then place each at the most appropriate location within the code. To start, copy the code block from above with the categorized error messages in place below."
   ]
  },
  {
   "cell_type": "code",
   "execution_count": 11,
   "id": "38b78166",
   "metadata": {},
   "outputs": [
    {
     "name": "stdout",
     "output_type": "stream",
     "text": [
      "fixed_acidity\n",
      "high    5.726061\n",
      "low     5.540052\n",
      "Name: quality, dtype: float64 \n",
      "\n",
      "volatile_acidity\n",
      "high    5.392157\n",
      "low     5.890166\n",
      "Name: quality, dtype: float64 \n",
      "\n",
      "citric_acid\n",
      "high    5.822360\n",
      "low     5.447103\n",
      "Name: quality, dtype: float64 \n",
      "\n",
      "residual_sugar\n",
      "high    5.665880\n",
      "low     5.602394\n",
      "Name: quality, dtype: float64 \n",
      "\n",
      "chlorides\n",
      "high    5.507194\n",
      "low     5.776471\n",
      "Name: quality, dtype: float64 \n",
      "\n",
      "free_sulfur_dioxide\n",
      "high    5.595268\n",
      "low     5.677136\n",
      "Name: quality, dtype: float64 \n",
      "\n",
      "total_sulfur_dioxide\n",
      "high    5.522981\n",
      "low     5.750630\n",
      "Name: quality, dtype: float64 \n",
      "\n",
      "density\n",
      "high    5.540574\n",
      "low     5.731830\n",
      "Name: quality, dtype: float64 \n",
      "\n",
      "pH\n",
      "high    5.598039\n",
      "low     5.675607\n",
      "Name: quality, dtype: float64 \n",
      "\n",
      "sulphates\n",
      "high    5.898917\n",
      "low     5.351562\n",
      "Name: quality, dtype: float64 \n",
      "\n",
      "alcohol\n",
      "high    5.958904\n",
      "low     5.310302\n",
      "Name: quality, dtype: float64 \n",
      "\n"
     ]
    }
   ],
   "source": [
    "import pandas as pd\n",
    "import logging\n",
    "\n",
    "# Configure logging\n",
    "logging.basicConfig(level=logging.INFO)\n",
    "\n",
    "# Read the CSV file\n",
    "df = pd.read_csv('winequality-red.csv', sep=';')\n",
    "logging.info(\"Able to read file: winequality-red.csv\")\n",
    "\n",
    "# Update column headers\n",
    "df.columns = [label.replace(' ', '_') for label in df.columns]\n",
    "logging.info(\"Updated column headers by replacing ' ' with '_'\")\n",
    "\n",
    "# Function to bucketize numeric values\n",
    "def numeric_to_buckets(df, column_name):\n",
    "    median = df[column_name].median()\n",
    "    logging.debug(f\"Computed median: {median}\")\n",
    "    for i, val in enumerate(df[column_name]):\n",
    "        if val >= median:\n",
    "            df.loc[i, column_name] = 'high'\n",
    "            logging.info(f\"Found val >= median for val: {val}\")\n",
    "        else:\n",
    "            df.loc[i, column_name] = 'low'\n",
    "\n",
    "# Apply the numeric_to_buckets function to each feature\n",
    "for feature in df.columns[:-1]:\n",
    "    numeric_to_buckets(df, feature)\n",
    "    logging.info(f\"Done bucketing values for feature: {feature}\")\n",
    "    print(df.groupby(feature).quality.mean(), '\\n')\n"
   ]
  },
  {
   "cell_type": "markdown",
   "id": "d6b0dccf",
   "metadata": {},
   "source": [
    "### Things to think about\n",
    "\n",
    "This is one potential solution. It's best to put log messages immediately before or after the code that you are logging, and in the case of debugging code that you are using but didn't write yourself, potentially both before and after. Also, the distinction between debug and info can be difficult to determine, and you will get better with practice. Your company likely has some guidelines around logging that you should check out."
   ]
  },
  {
   "cell_type": "code",
   "execution_count": 14,
   "id": "6f5079be",
   "metadata": {},
   "outputs": [
    {
     "name": "stdout",
     "output_type": "stream",
     "text": [
      "fixed_acidity\n",
      "high    5.726061\n",
      "low     5.540052\n",
      "Name: quality, dtype: float64 \n",
      "\n",
      "volatile_acidity\n",
      "high    5.392157\n",
      "low     5.890166\n",
      "Name: quality, dtype: float64 \n",
      "\n",
      "citric_acid\n",
      "high    5.822360\n",
      "low     5.447103\n",
      "Name: quality, dtype: float64 \n",
      "\n",
      "residual_sugar\n",
      "high    5.665880\n",
      "low     5.602394\n",
      "Name: quality, dtype: float64 \n",
      "\n",
      "chlorides\n",
      "high    5.507194\n",
      "low     5.776471\n",
      "Name: quality, dtype: float64 \n",
      "\n",
      "free_sulfur_dioxide\n",
      "high    5.595268\n",
      "low     5.677136\n",
      "Name: quality, dtype: float64 \n",
      "\n",
      "total_sulfur_dioxide\n",
      "high    5.522981\n",
      "low     5.750630\n",
      "Name: quality, dtype: float64 \n",
      "\n",
      "density\n",
      "high    5.540574\n",
      "low     5.731830\n",
      "Name: quality, dtype: float64 \n",
      "\n",
      "pH\n",
      "high    5.598039\n",
      "low     5.675607\n",
      "Name: quality, dtype: float64 \n",
      "\n",
      "sulphates\n",
      "high    5.898917\n",
      "low     5.351562\n",
      "Name: quality, dtype: float64 \n",
      "\n",
      "alcohol\n",
      "high    5.958904\n",
      "low     5.310302\n",
      "Name: quality, dtype: float64 \n",
      "\n"
     ]
    }
   ],
   "source": [
    "import pandas as pd\n",
    "import logging\n",
    "\n",
    "df = pd.read_csv('winequality-red.csv', sep=';')\n",
    "logging.debug(\"Able to read file: winequality-red.csv\")\n",
    "\n",
    "df.columns = [label.replace(' ', '_') for label in df.columns]\n",
    "logging.debug(\"Updated column headers by replacing ' ' with '_'\")\n",
    "\n",
    "def numeric_to_buckets(df, column_name):\n",
    "    median = df[column_name].median()\n",
    "    logging.info(f\"Computed median: {median}\")\n",
    "    for i, val in enumerate(df[column_name]):\n",
    "        if val >= median:\n",
    "            logging.debug(f\"Found val >= median for val: {val}\")\n",
    "            df.loc[i, column_name] = 'high'\n",
    "        else:\n",
    "            df.loc[i, column_name] = 'low' \n",
    "for feature in df.columns[:-1]:\n",
    "    numeric_to_buckets(df, feature)\n",
    "    print(df.groupby(feature).quality.mean(), '\\n')\n",
    "logging.info('done bucketing values')"
   ]
  },
  {
   "cell_type": "markdown",
   "id": "e663575b",
   "metadata": {},
   "source": [
    "# Part 2: Log messaging\n",
    "You have written code the goes through your stock portfolio list to determine if the current trading price is high enough to sell. Since all these stocks are less than $10.00 you determine that perfect \"sweet spot\" price is $3.35. Any time your code determines that a price is less than that \"sweet spot\" price, it communicates this through a printed message. We want the communication to indicate which stocks to sell.\n",
    "\n",
    "Your stock portfolio with current trading prices is listed here"
   ]
  },
  {
   "cell_type": "code",
   "execution_count": 15,
   "id": "7d503a61",
   "metadata": {},
   "outputs": [
    {
     "data": {
      "text/plain": [
       "{'ABC': 4.43,\n",
       " 'DEF': 7.76,\n",
       " 'GHI': 2.45,\n",
       " 'JKL': 1.76,\n",
       " 'MNO': 3.9,\n",
       " 'PQR': 3.32,\n",
       " 'STU': 7.49,\n",
       " 'VWX': 9.99,\n",
       " 'YZ': 3.35,\n",
       " 'AZH': 0.06}"
      ]
     },
     "execution_count": 15,
     "metadata": {},
     "output_type": "execute_result"
    }
   ],
   "source": [
    "{'ABC': 4.43, 'DEF': 7.76, 'GHI': 2.45, 'JKL': 1.76, 'MNO': 3.90, 'PQR': 3.32, 'STU': 7.49, 'VWX': 9.99, 'YZ': 3.35, 'AZH': 0.06}"
   ]
  },
  {
   "cell_type": "markdown",
   "id": "4268590b",
   "metadata": {},
   "source": [
    "**logging data**"
   ]
  },
  {
   "cell_type": "markdown",
   "id": "4c4b067b",
   "metadata": {},
   "source": []
  },
  {
   "cell_type": "code",
   "execution_count": null,
   "id": "ed03f8a6",
   "metadata": {},
   "outputs": [],
   "source": []
  }
 ],
 "metadata": {
  "kernelspec": {
   "display_name": "Python 3 (ipykernel)",
   "language": "python",
   "name": "python3"
  },
  "language_info": {
   "codemirror_mode": {
    "name": "ipython",
    "version": 3
   },
   "file_extension": ".py",
   "mimetype": "text/x-python",
   "name": "python",
   "nbconvert_exporter": "python",
   "pygments_lexer": "ipython3",
   "version": "3.11.4"
  }
 },
 "nbformat": 4,
 "nbformat_minor": 5
}
