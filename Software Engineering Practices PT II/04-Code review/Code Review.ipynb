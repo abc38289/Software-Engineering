{
 "cells": [
  {
   "cell_type": "markdown",
   "id": "6e10170c",
   "metadata": {},
   "source": [
    "# Code review\n",
    "\n",
    "You are taking part in a code review, and have been given the following code from a colleague to review and provide feedback on."
   ]
  },
  {
   "cell_type": "code",
   "execution_count": 1,
   "id": "d891774b",
   "metadata": {},
   "outputs": [
    {
     "ename": "FileNotFoundError",
     "evalue": "[Errno 2] No such file or directory: 'input_values'",
     "output_type": "error",
     "traceback": [
      "\u001b[0;31m---------------------------------------------------------------------------\u001b[0m",
      "\u001b[0;31mFileNotFoundError\u001b[0m                         Traceback (most recent call last)",
      "Cell \u001b[0;32mIn[1], line 1\u001b[0m\n\u001b[0;32m----> 1\u001b[0m \u001b[38;5;28;01mwith\u001b[39;00m \u001b[38;5;28mopen\u001b[39m(\u001b[38;5;124m'\u001b[39m\u001b[38;5;124minput_values\u001b[39m\u001b[38;5;124m'\u001b[39m) \u001b[38;5;28;01mas\u001b[39;00m f:\n\u001b[1;32m      2\u001b[0m     nums \u001b[38;5;241m=\u001b[39m f\u001b[38;5;241m.\u001b[39mread()\u001b[38;5;241m.\u001b[39msplit(\u001b[38;5;124m'\u001b[39m\u001b[38;5;130;01m\\n\u001b[39;00m\u001b[38;5;124m'\u001b[39m)\n\u001b[1;32m      3\u001b[0m     nums \u001b[38;5;241m=\u001b[39m np\u001b[38;5;241m.\u001b[39marray(nums)\u001b[38;5;241m.\u001b[39mastype(\u001b[38;5;28mint\u001b[39m)  \u001b[38;5;66;03m# convert string to int\u001b[39;00m\n",
      "File \u001b[0;32m~/anaconda3/lib/python3.11/site-packages/IPython/core/interactiveshell.py:284\u001b[0m, in \u001b[0;36m_modified_open\u001b[0;34m(file, *args, **kwargs)\u001b[0m\n\u001b[1;32m    277\u001b[0m \u001b[38;5;28;01mif\u001b[39;00m file \u001b[38;5;129;01min\u001b[39;00m {\u001b[38;5;241m0\u001b[39m, \u001b[38;5;241m1\u001b[39m, \u001b[38;5;241m2\u001b[39m}:\n\u001b[1;32m    278\u001b[0m     \u001b[38;5;28;01mraise\u001b[39;00m \u001b[38;5;167;01mValueError\u001b[39;00m(\n\u001b[1;32m    279\u001b[0m         \u001b[38;5;124mf\u001b[39m\u001b[38;5;124m\"\u001b[39m\u001b[38;5;124mIPython won\u001b[39m\u001b[38;5;124m'\u001b[39m\u001b[38;5;124mt let you open fd=\u001b[39m\u001b[38;5;132;01m{\u001b[39;00mfile\u001b[38;5;132;01m}\u001b[39;00m\u001b[38;5;124m by default \u001b[39m\u001b[38;5;124m\"\u001b[39m\n\u001b[1;32m    280\u001b[0m         \u001b[38;5;124m\"\u001b[39m\u001b[38;5;124mas it is likely to crash IPython. If you know what you are doing, \u001b[39m\u001b[38;5;124m\"\u001b[39m\n\u001b[1;32m    281\u001b[0m         \u001b[38;5;124m\"\u001b[39m\u001b[38;5;124myou can use builtins\u001b[39m\u001b[38;5;124m'\u001b[39m\u001b[38;5;124m open.\u001b[39m\u001b[38;5;124m\"\u001b[39m\n\u001b[1;32m    282\u001b[0m     )\n\u001b[0;32m--> 284\u001b[0m \u001b[38;5;28;01mreturn\u001b[39;00m io_open(file, \u001b[38;5;241m*\u001b[39margs, \u001b[38;5;241m*\u001b[39m\u001b[38;5;241m*\u001b[39mkwargs)\n",
      "\u001b[0;31mFileNotFoundError\u001b[0m: [Errno 2] No such file or directory: 'input_values'"
     ]
    }
   ],
   "source": [
    "with open('input_values') as f:\n",
    "    nums = f.read().split('\\n')\n",
    "    nums = np.array(nums).astype(int)  # convert string to int\n",
    "    total = 0\n",
    "    for x in nums:\n",
    "      if (x < 15):\n",
    "        total += x\n",
    "    print(total)"
   ]
  },
  {
   "cell_type": "markdown",
   "id": "98b6cf73",
   "metadata": {},
   "source": [
    "## Questions for a code review\n",
    "Is the code clean and modular?\n",
    "* Can I understand the code easily?\n",
    "* Does it use meaningful names and whitespace?\n",
    "* Is there duplicated code?\n",
    "* Can I provide another layer of abstraction?\n",
    "* Is each function and module necessary?\n",
    "* Is each function or module too long?\n",
    "\n",
    "Is the code efficient?\n",
    "* Are there loops or other steps I can vectorize?\n",
    "* Can I use better data structures to optimize any steps?\n",
    "* Can I shorten the number of calculations needed for any steps?\n",
    "* Can I use generators or multiprocessing to optimize any steps?\n",
    "\n",
    "Is the documentation effective?\n",
    "* Are inline comments concise and meaningful?\n",
    "* Is there complex code that's missing documentation?\n",
    "* Do functions use effective docstrings?\n",
    "* Is the necessary project documentation provided?\n",
    "\n",
    "Is the code well tested?\n",
    "* Does the code have test coverage?\n",
    "* Do tests check for interesting cases?\n",
    "* Are the tests readable?\n",
    "* Can the tests be made more efficient?\n",
    "\n",
    "Is the logging effective?\n",
    "* Are log messages clear, concise, and professional?\n",
    "* Do they include all relevant and useful information?\n",
    "* Do they use the appropriate logging level?"
   ]
  },
  {
   "cell_type": "markdown",
   "id": "9e4170ad",
   "metadata": {},
   "source": [
    "# Part 1\n",
    "Select 5 questions that you used to evaluate the code, one from each category on the \"Questions for a code review\" page.\n",
    "\n",
    "In the response box below, type each question along with how you would answer it based on the given code."
   ]
  },
  {
   "cell_type": "markdown",
   "id": "86cf759e",
   "metadata": {},
   "source": [
    "### My reflection\n",
    "Is the code clean and modular?\n",
    "\n",
    "- Can I understand the code easily?\n",
    "<br>Answer: The code is relatively simple, and the logic is straightforward. I can understand it easily.\n",
    "\n",
    "Is the code efficient?\n",
    "\n",
    "- Can I use better data structures to optimize any steps?\n",
    "<br>Answer: The code could potentially benefit from using NumPy functions for vectorized operations, but it's reasonably efficient for the given task.\n",
    "\n",
    "Is the documentation effective?\n",
    "\n",
    "- Are inline comments concise and meaningful?\n",
    "<br>Answer: There are no inline comments in the code, so additional comments explaining the purpose and logic of the code could be helpful.\n",
    "\n",
    "Is the code well tested?\n",
    "\n",
    "- Do tests check for interesting cases?\n",
    "<br>Answer: There are no explicit tests provided. Adding tests, especially for different input scenarios, would be beneficial.\n",
    "\n",
    "Is the logging effective?\n",
    "\n",
    "- Are log messages clear, concise, and professional?\n",
    "<br>Answer: There are no log messages in the code. If logging were necessary, it would be important to ensure that log messages are clear and provide useful information."
   ]
  },
  {
   "cell_type": "markdown",
   "id": "0d766102",
   "metadata": {},
   "source": [
    "### Things to think about\n",
    "Here is a sample solution. Your solution may differ slightly. <br><br><li>Does the code use meaningful names and whitespace? While the code is fairly short and easy to follow thanks to the use of good whitespace, it's not totally clear what is going on and this could be improved with descriptive variable names. <br><li>Are there loops or other steps I can vectorized? It looks like the for loop could be vectorized to improve performance a considerable amount. <br><li>Is there complex code that's missing documentation? In general, there seems to be a lack of documentation. Given that the code is short there is likely not much documentation that is needed, but having a better indication of what the code is doing (and why) would be helpful. <br><li>Does the code have test coverage? There was no test file shown, so the assumption would be that this code has not been thoroughly tested. <br><li>Are log messages clear, concise, and professional? This code contains no log messages."
   ]
  },
  {
   "cell_type": "markdown",
   "id": "dbcc4ed9",
   "metadata": {},
   "source": [
    "# Part 2:\n",
    "\n",
    "Write three separate recommendations that you would provide to your colleague in the space below. Due to time constraints, assume that you are unable to further discuss any feedback in person, so feedback comments must be clear, complete, and appropriate for the code review."
   ]
  },
  {
   "cell_type": "markdown",
   "id": "717b048d",
   "metadata": {},
   "source": [
    "### My reflection\n",
    "\n",
    "1. Code Clarity and Documentation:\n",
    "\n",
    "Recommendation: Consider adding inline comments to explain the purpose and logic of the code. This would enhance code readability and help others understand the steps and decisions made in the code.\n",
    "\n",
    "2. Test Coverage:\n",
    "\n",
    "Recommendation: Implement a test suite for the code. Ensure that tests cover various scenarios, including edge cases and different input values. This will provide a safety net against unintended changes and improve the overall robustness of the code.\n",
    "\n",
    "3. Potential Optimization:\n",
    "\n",
    "Recommendation: Explore the use of NumPy's vectorized operations to potentially optimize the code. Vectorization can often lead to more concise and efficient code for numerical operations, which may be beneficial for this task."
   ]
  },
  {
   "cell_type": "markdown",
   "id": "178235ad",
   "metadata": {},
   "source": [
    "### Things to think about\n",
    "Here are three sample recommendations, however there are several that you could have come up with. For each of your recommendations, check that they are professional, are offered as suggestions and not demands, and avoid the use of \"I\" or \"you.\" The goal is not to criticize the person, but more so to improve the code.\n",
    "\n",
    "<li>The first recommendation would be to change some of the variable names to be more descriptive. For example, `nums` could be more reflective of what the values in the input file represent, along with the variables x and total that are used in the for loop. <li>In order to improve the efficiency, another recommendation would be to replace the for loop with the following vector operation: total = (nums[nums < 25]).sum() <li>Lastly, is there recommended test data that exists that wasn't passed along with the code? If not, it is always necessary to test code, especially code that will be going into production."
   ]
  },
  {
   "cell_type": "code",
   "execution_count": null,
   "id": "97f36a71",
   "metadata": {},
   "outputs": [],
   "source": []
  }
 ],
 "metadata": {
  "kernelspec": {
   "display_name": "Python 3 (ipykernel)",
   "language": "python",
   "name": "python3"
  },
  "language_info": {
   "codemirror_mode": {
    "name": "ipython",
    "version": 3
   },
   "file_extension": ".py",
   "mimetype": "text/x-python",
   "name": "python",
   "nbconvert_exporter": "python",
   "pygments_lexer": "ipython3",
   "version": "3.11.4"
  }
 },
 "nbformat": 4,
 "nbformat_minor": 5
}
